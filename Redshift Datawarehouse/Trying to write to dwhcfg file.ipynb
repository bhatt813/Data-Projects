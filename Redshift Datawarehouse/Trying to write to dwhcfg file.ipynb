{
 "cells": [
  {
   "cell_type": "code",
   "execution_count": null,
   "metadata": {},
   "outputs": [],
   "source": [
    "\n",
    "config.remove_section('CLUSTER')\n",
    "config.remove_section('IAM_ROLE')\n",
    "\n",
    "configfile_name='dwh.cfg'\n",
    "if not os.path.isfile(configfile_name):\n",
    "    # Create the configuration file as it doesn't exist yet\n",
    "    cfgfile = open(configfile_name, 'w')\n",
    "    \n",
    "try:\n",
    "    config.add_section(\"CLUSTER\")\n",
    "    config.set(\"CLUSTER\",\"HOST\", Endpoint)\n",
    "    config.add_section(\"IAM_ROLE\")\n",
    "    config.set(\"IAM_ROLE\",\"ARN\", ARN)\n",
    "    config.write(configfile_name)"
   ]
  }
 ],
 "metadata": {
  "kernelspec": {
   "display_name": "Python 3",
   "language": "python",
   "name": "python3"
  },
  "language_info": {
   "codemirror_mode": {
    "name": "ipython",
    "version": 3
   },
   "file_extension": ".py",
   "mimetype": "text/x-python",
   "name": "python",
   "nbconvert_exporter": "python",
   "pygments_lexer": "ipython3",
   "version": "3.6.3"
  }
 },
 "nbformat": 4,
 "nbformat_minor": 2
}
